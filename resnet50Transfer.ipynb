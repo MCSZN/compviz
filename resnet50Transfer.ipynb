{
 "cells": [
  {
   "cell_type": "markdown",
   "metadata": {},
   "source": [
    "# In this notebook we use the imagenet ResNet50 to predict dogs and cats\n",
    "\n",
    "**We will be using Keras with its tensorflow backend**\n",
    "\n",
    "*We also use some sklearn functionalities*"
   ]
  },
  {
   "cell_type": "code",
   "execution_count": 1,
   "metadata": {},
   "outputs": [
    {
     "name": "stderr",
     "output_type": "stream",
     "text": [
      "Using TensorFlow backend.\n"
     ]
    }
   ],
   "source": [
    "import tensorflow as tf\n",
    "from keras import backend as K\n",
    "from keras.preprocessing.image import img_to_array, load_img, ImageDataGenerator\n",
    "from keras.applications.resnet50 import preprocess_input\n",
    "from keras.applications import ResNet50\n",
    "from keras.models import Sequential, load_model\n",
    "from keras.layers import Dense, Dropout, LeakyReLU\n",
    "from sklearn.metrics import confusion_matrix\n",
    "from sklearn.model_selection import train_test_split\n",
    "from IPython.display import display\n",
    "from PIL import Image"
   ]
  },
  {
   "cell_type": "markdown",
   "metadata": {},
   "source": [
    "**We saved the weights of the ResNet50 in a folder**\n",
    "\n",
    "We also used a toy test folder where we saved manually images from google and tested them with our model.\n",
    "\n",
    "*We saved our data in the following architecture:*\n",
    "\n",
    "//\n",
    "\n",
    "resnet50Transfer\n",
    "\n",
    "input\n",
    "    - resnet50\n",
    "          - resnet50_weights_tf_dim_ordering_tf_kernels_notop.h5\n",
    "          - resnet50_weights_tf_dim_ordering_tf_kernels.h5\n",
    "    - train\n",
    "          - dogs\n",
    "              - dog.1.jpg\n",
    "              - dog.2.jpg\n",
    "              - ...\n",
    "          - cats\n",
    "              - cat.1.jpg\n",
    "              - cat.2.jpg\n",
    "              - ...\n",
    "    - val\n",
    "          - dogs\n",
    "              - dog.1.jpg\n",
    "              - dog.2.jpg\n",
    "              - ...\n",
    "          - cats\n",
    "              - cat.1.jpg\n",
    "              - cat.2.jpg\n",
    "              - ...\n",
    "    - test\n",
    "          - test\n",
    "              - 1.jpg\n",
    "              - 2.jpg\n",
    "              - ...\n",
    "    - test_it\n",
    "          - dogs\n",
    "              - dog.1.jpg\n",
    "              - dog.2.jpg\n",
    "              - ...\n",
    "          - cats\n",
    "              - cat.1.jpg\n",
    "              - cat.2.jpg\n",
    "              - ...\n",
    "//"
   ]
  },
  {
   "cell_type": "code",
   "execution_count": 2,
   "metadata": {},
   "outputs": [],
   "source": [
    "resnet_weights_path = \"input/resnet50/resnet50_weights_tf_dim_ordering_tf_kernels_notop.h5\""
   ]
  },
  {
   "cell_type": "markdown",
   "metadata": {},
   "source": [
    "## With big data we need to create data generators\n",
    "\n",
    "**It allows us to *batchify*, *shuffle* and specify automatically our X_train, Y_train with categories we build in our data architecture**\n",
    "\n",
    "Initially Wrapping your head around them is annoying but it makes training easier and faster."
   ]
  },
  {
   "cell_type": "code",
   "execution_count": null,
   "metadata": {},
   "outputs": [],
   "source": [
    "# create a datagenerator that preprocesses inputs for ResNet50\n",
    "data_generator = ImageDataGenerator(preprocessing_function=preprocess_input)\n",
    "\n",
    "# these functions help to process big amounts of data\n",
    "# each subdirectory of images is a category /dogs is 1 /cats is 0\n",
    "# we specify the resizing of the images to 224x224\n",
    "# we can apply mini batch to better process our learning\n",
    "# finally we specify the color mode and the class mode\n",
    "train_generator = data_generator.flow_from_directory(\n",
    "        'input/train',\n",
    "        batch_size=24, shuffle=False,\n",
    "        target_size=(512, 512),\n",
    "        color_mode = \"rgb\",\n",
    "        class_mode='categorical')\n",
    "\n",
    "val_generator = data_generator.flow_from_directory(\n",
    "        'input/val',\n",
    "        batch_size=1, shuffle=False,\n",
    "        target_size=(512, 512),\n",
    "        color_mode = \"rgb\",\n",
    "        class_mode='categorical')\n",
    "\n",
    "test_generator = data_generator.flow_from_directory(\n",
    "        'input/test',\n",
    "        batch_size = 1,\n",
    "        target_size=(512, 512),\n",
    "        color_mode = \"rgb\",\n",
    "        class_mode='categorical')\n",
    "\n",
    "test_it_generator = data_generator.flow_from_directory(\n",
    "        'input/test_it',\n",
    "        batch_size = 1, shuffle = True,\n",
    "        target_size=(512, 512),\n",
    "        color_mode = \"rgb\",\n",
    "        class_mode='categorical')"
   ]
  },
  {
   "cell_type": "code",
   "execution_count": 4,
   "metadata": {},
   "outputs": [
    {
     "data": {
      "text/plain": [
       "{'cats': 0, 'dogs': 1}"
      ]
     },
     "execution_count": 4,
     "metadata": {},
     "output_type": "execute_result"
    }
   ],
   "source": [
    "val_generator.class_indices\n",
    "train_generator.class_indices"
   ]
  },
  {
   "cell_type": "markdown",
   "metadata": {},
   "source": [
    "### Here we create our model using Resnet50 as the first layer"
   ]
  },
  {
   "cell_type": "code",
   "execution_count": 82,
   "metadata": {
    "scrolled": true
   },
   "outputs": [
    {
     "name": "stdout",
     "output_type": "stream",
     "text": [
      "_________________________________________________________________\n",
      "Layer (type)                 Output Shape              Param #   \n",
      "=================================================================\n",
      "resnet50 (Model)             (None, 2048)              23587712  \n",
      "_________________________________________________________________\n",
      "dense_1 (Dense)              (None, 4)                 8196      \n",
      "_________________________________________________________________\n",
      "dense_2 (Dense)              (None, 2)                 10        \n",
      "=================================================================\n",
      "Total params: 23,595,918\n",
      "Trainable params: 8,206\n",
      "Non-trainable params: 23,587,712\n",
      "_________________________________________________________________\n"
     ]
    }
   ],
   "source": [
    "# clear Keras session if environment already used\n",
    "K.clear_session()\n",
    "\n",
    "# Init sequential model\n",
    "model = Sequential()\n",
    "\n",
    "# initialize first layer with already trained ResNet50, specifying inputshapes and methods of pooling\n",
    "model.add(ResNet50(include_top=False, \n",
    "                   pooling='max', input_shape = (512, 512, 3),\n",
    "                   weights=resnet_weights_path))\n",
    "\n",
    "# add our untrained layer for dog cat prediction\n",
    "model.add(Dense(4, activation=\"relu\"))\n",
    "\n",
    "model.add(Dense(2, activation= \"softmax\"))\n",
    "\n",
    "# specify keras not to train ResNet50\n",
    "model.layers[0].trainable = False\n",
    "\n",
    "# compile model with adam & categorical crossentropy\n",
    "model.compile(optimizer = \"adam\", loss = \"categorical_crossentropy\", metrics = [\"accuracy\"])\n",
    "\n",
    "# get summary of model\n",
    "model.summary()"
   ]
  },
  {
   "cell_type": "code",
   "execution_count": null,
   "metadata": {},
   "outputs": [],
   "source": [
    "# we fit our model with our train generator functions\n",
    "# it will be functional very fast\n",
    "model.fit_generator(\n",
    "        train_generator,\n",
    "        epochs = 2,\n",
    "        steps_per_epoch=10,\n",
    "        validation_data=val_generator ,\n",
    "        validation_steps=15 ,\n",
    "        verbose= 1\n",
    ")"
   ]
  },
  {
   "cell_type": "markdown",
   "metadata": {},
   "source": [
    "We just used transfer learning for basic cat/dog classification.\n",
    "For this we used the pretrained model we downloaded from Kaggle: https://www.kaggle.com/keras/resnet50\n",
    "\n",
    "We organized our data with Bash using regex, we downloaded our data comme from the competition: https://www.kaggle.com/c/dogs-vs-cats-redux-kernels-edition\n",
    "\n",
    "Eventually we create a data generator specifying image resizing, target mode and fit our model with our data gen.\n",
    "\n",
    "Since we use ResNet50: https://www.cv-foundation.org/openaccess/content_cvpr_2016/papers/He_Deep_Residual_Learning_CVPR_2016_paper.pdf trained on ImageNet: http://www.image-net.org/ we reach a very high score very rapidly."
   ]
  },
  {
   "cell_type": "code",
   "execution_count": 85,
   "metadata": {},
   "outputs": [],
   "source": [
    "# saving the weights\n",
    "model.save('epic_model.h5')"
   ]
  },
  {
   "cell_type": "code",
   "execution_count": 8,
   "metadata": {},
   "outputs": [],
   "source": [
    "# loading the weights\n",
    "model.load_weights('epic_model.h5')"
   ]
  },
  {
   "cell_type": "code",
   "execution_count": 88,
   "metadata": {},
   "outputs": [
    {
     "data": {
      "text/plain": [
       "(1.1920928955078125e-07, 1.0)"
      ]
     },
     "execution_count": 88,
     "metadata": {},
     "output_type": "execute_result"
    }
   ],
   "source": [
    "# evaluating the model\n",
    "loss, acc = model.evaluate_generator(val_generator, steps=20)\n",
    "(loss, acc)"
   ]
  }
 ],
 "metadata": {
  "kernelspec": {
   "display_name": "Python 3",
   "language": "python",
   "name": "python3"
  },
  "language_info": {
   "codemirror_mode": {
    "name": "ipython",
    "version": 3
   },
   "file_extension": ".py",
   "mimetype": "text/x-python",
   "name": "python",
   "nbconvert_exporter": "python",
   "pygments_lexer": "ipython3",
   "version": "3.6.8"
  }
 },
 "nbformat": 4,
 "nbformat_minor": 2
}
